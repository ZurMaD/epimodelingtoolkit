{
 "cells": [
  {
   "cell_type": "code",
   "execution_count": 1,
   "metadata": {},
   "outputs": [],
   "source": [
    "import pandas as pd\n",
    "import numpy as np\n",
    "import matplotlib.pyplot as plt\n",
    "from scipy import stats\n",
    "\n",
    "%matplotlib inline"
   ]
  },
  {
   "cell_type": "markdown",
   "metadata": {},
   "source": [
    "## Data Fetching"
   ]
  },
  {
   "cell_type": "code",
   "execution_count": 2,
   "metadata": {},
   "outputs": [],
   "source": [
    "severity = pd.read_json(\"https://raw.githubusercontent.com/neherlab/covid19_scenarios/2a5d7fe2c1f4ff820a71f217531d2e2dfdca9a03/src/assets/data/severityData.json\")\n",
    "age_distribution = pd.read_json(\"https://raw.githubusercontent.com/neherlab/covid19_scenarios/2a5d7fe2c1f4ff820a71f217531d2e2dfdca9a03/src/assets/data/country_age_distribution.json\")\n",
    "region_summary = pd.read_json(\"https://raw.githubusercontent.com/neherlab/covid19_scenarios/2a5d7fe2c1f4ff820a71f217531d2e2dfdca9a03/src/assets/data/population.json\")\n",
    "region_summary = pd.concat([region_summary['name'], pd.json_normalize(region_summary['data'])], axis=1).set_index('name')\n",
    "\n",
    "import urllib, json\n",
    "\n",
    "response = urllib.request.urlopen('https://raw.githubusercontent.com/neherlab/covid19_scenarios/2a5d7fe2c1f4ff820a71f217531d2e2dfdca9a03/src/assets/data/case_counts.json')\n",
    "case_counts = json.loads(response.read())\n"
   ]
  },
  {
   "cell_type": "markdown",
   "metadata": {},
   "source": [
    "### Region selection"
   ]
  },
  {
   "cell_type": "code",
   "execution_count": 4,
   "metadata": {},
   "outputs": [],
   "source": [
    "region = 'USA-New York'\n",
    "# region = 'United States of America'\n",
    "region_selection = region_summary.loc[region]\n",
    "region_cases = pd.DataFrame(case_counts[region_selection.cases])\n",
    "region_population = age_distribution[region_selection.country]"
   ]
  },
  {
   "cell_type": "markdown",
   "metadata": {},
   "source": [
    "### Parameter specification"
   ]
  },
  {
   "cell_type": "code",
   "execution_count": 514,
   "metadata": {},
   "outputs": [],
   "source": [
    "def lin_interp_df_from_dates(intervention_dict, index):\n",
    "    data = []\n",
    "    intervention_dates = sorted(intervention_dict.keys(), key=lambda x: pd.Timestamp(x))\n",
    "    last_date = pd.Timestamp(intervention_dates[0])\n",
    "    last_values = intervention_dict[intervention_dates[0]]\n",
    "    for key in intervention_dates:\n",
    "        values = intervention_dict[key]\n",
    "        key_time = pd.Timestamp(key)\n",
    "        interval = (key_time - last_date).days\n",
    "        if interval == 0:\n",
    "            continue\n",
    "        data = data + [np.linspace(last_values, values, interval)]\n",
    "        last_date = key_time\n",
    "        last_values = values\n",
    "    data = data + [\n",
    "        np.ones(\n",
    "            ((date_range[-1] - pd.Timestamp(last_date)).days + 1, len(last_values))\n",
    "        ) * np.array(last_values)\n",
    "    ]\n",
    "    return pd.DataFrame(np.concatenate(data, axis=0), index=index)\n",
    "\n",
    "def repeat_df_from_dates(intervention_dict, index):\n",
    "    data = []\n",
    "    last_date = index[-1]\n",
    "    for key in sorted(intervention_dict.keys(), reverse=True):\n",
    "        values = intervention_dict[key]\n",
    "        key_time = pd.Timestamp(key)\n",
    "        repeats = (last_date - key_time).days\n",
    "        if not data:\n",
    "            repeats = repeats +1\n",
    "        data = [np.tile(values, (repeats, 1))] + data\n",
    "        last_date = key_time\n",
    "    return pd.DataFrame(np.concatenate(data, axis=0), index=index)\n",
    "\n",
    "def population_sampler(demo, count):\n",
    "    pop_samples = np.random.choice(range(len(demo)), count, p=demo)\n",
    "    return np.bincount(pop_samples, minlength=len(demo))\n",
    "\n",
    "def compartmental_pop_sampler(demo, compartmental_count):\n",
    "    # NB: \n",
    "    matrix = np.zeros((len(demo), len(compartmental_count)))\n",
    "    for index, compartment_count in compartmental_count.iteritems():\n",
    "        matrix[:, index] = population_sampler(demo, compartment_count)\n",
    "    return matrix.T\n",
    "\n",
    "def gamma(mean, size=1, shape=3):\n",
    "    return np.random.gamma(shape, mean/shape, size)\n",
    "\n",
    "def rate_nb(kappa, p, shape_modifier=1, size=1):\n",
    "    kappa_stochastic = gamma(kappa, size, 3/shape_modifier) # Default shape of 3 \n",
    "    p_stochastic = gamma(p, size, 3/shape_modifier)\n",
    "    return np.log(1+p_stochastic*kappa_stochastic)/kappa_stochastic\n",
    "\n",
    "\n",
    "def beta_severity(mean, severity, size=1, baseline=10):\n",
    "    # Severity modifies the distribution by multiplying raising the mean to a power of\n",
    "    # sqrt(Severity)\n",
    "    \n",
    "    new_mean = np.power(mean, 1/np.sqrt(severity))\n",
    "    b = baseline\n",
    "    a = (b * new_mean) / (1 - new_mean)\n",
    "    return np.random.beta(a, b, size)\n",
    "\n",
    "\n",
    "def flux(d, pop):\n",
    "    return np.minimum(np.round(pop * d), pop)"
   ]
  },
  {
   "cell_type": "code",
   "execution_count": 538,
   "metadata": {},
   "outputs": [],
   "source": [
    "initial_state = pd.Series([region_selection.populationServed, 100, 50, 5, 0, 0 , 0, 0, 0, 0, 0], index=['S', 'E', 'P', 'V', 'Q', 'I', 'H', 'C', 'R', 'D', 'Con'])\n",
    "initial_infection_dist = [.05,.1,.23,.24,.15,.12,.06,.03,.02]\n",
    "# initial_infection_dist = [.1,.3,.3,.2,.1,0,0,0,0]\n",
    "start_date = '03-05-2020'\n",
    "date_range = pd.date_range(start_date, '01-01-2021')\n",
    "p_tau = q_tau = .03\n",
    "v_tau = i_tau = h_tau = .3\n",
    "\n",
    "kappa = 100 # Arbitrarily chosen based on highly heterogenous network.\n",
    "\n",
    "# param is time to transition \n",
    "e_mu = 3 # Despite stated mean to symptoms is 5.5 days, we assume lower because of included prodromal phase\n",
    "p_mu = 3 \n",
    "q_mu = 10\n",
    "v_mu = 4 # We assume that the average person would move into isolation after 4 days with no mitigations present. Work culture factors in.\n",
    "i_mu = 10 # We assume isolated people can still cause infections.\n",
    "h_mu = 4 # People moving to the ICU and healthy people keep this low\n",
    "c_mu = 14 \n",
    "\n",
    "\n",
    "v_rho = 2/3\n",
    "h_rho = 1/20\n",
    "c_rho = 1/3\n",
    "d_rho = 1/3\n",
    "\n",
    "\n",
    "X = np.array([\n",
    "    [.32, .1, .05, .2, .1, .04, .1, .07, .02],\n",
    "    [.1, .3, .1, .1, .2, .1, .05, .04, .01],\n",
    "    [.03, .1, .43, .15, .05, .12, .07, .03, .02],\n",
    "    [.15, .05, .15, .33, .15, .05, .03, .03, .06],\n",
    "    [.06, .17, .07, .11, .3, .11, .06, .07, .05],\n",
    "    [.08, .07, .10, .07, .12, .25, .15, .10, .06],\n",
    "    [.12, .09, .01, .15, .06, .1, .30, .1, .07],\n",
    "    [.05, .1, .03, .05, .12, .05, .11, .34, .15],\n",
    "    [.02, .06, .08, .02, .03, .11, .07, .22, .39]\n",
    "]).T\n",
    "\n",
    "Se = np.array([.25,.5, .5,.75,1,1.25,1.75,2.25,2.75])\n",
    "\n",
    "# How well does the average physician protect themselves from infection compared to the rest of the population. PPE contingent.\n",
    "m_hospital = repeat_df_from_dates({\n",
    "    start_date: [.03,.03,.03,.03,.03,.03,.03,.03,.03],\n",
    "    \"03-17-20\": [.1,.1,.1,.1,.1,.1,.1,.1,.1],\n",
    "    \"03-22-20\": [.01,.01,.01,.01,.01,.01,.01,.01,.01]\n",
    "}, date_range) \n",
    "\n",
    "# How well are people distancing - how big is their network relative to baseline\n",
    "# It's possible that the shape of the variable should be inversely related to mean - some people will be irresponsible?\n",
    "# TODO: Could use MTA ridership data for NYC as a way to compute this?\n",
    "Contact = lin_interp_df_from_dates({\n",
    "    start_date: [10,30,40,40,40,25,15,10,5],\n",
    "    \"03-09-20\": [9, 18,30,30,30,20,12,8,4],\n",
    "    \"03-18-20\": [6, 10,12,10,8, 8, 6, 6, 4],\n",
    "    \"03-22-20\": [3, 3, 5, 5, 4, 3, 3, 3, 3],\n",
    "    \"03-25-20\": [2, 2, 2, 2, 2, 2, 2, 2, 2],\n",
    "    \"05-01-20\": [10,20,30,30,20,10,7,5,3] # HYPOTHETICAL relaxation of social distancing for all but elderly\n",
    "}, date_range)\n",
    "\n",
    "Contact_baseline = (Contact.loc[start_date].values*(region_population/region_population.sum())).sum()\n",
    "\n",
    "# How good are people about hand washing, face touching.\n",
    "m_sanitation = repeat_df_from_dates({\n",
    "    start_date: [1,1,1,1,1,1,1,1,1],\n",
    "    \"03-20-20\": [.8,.8,.8,.8,.8,.8,.8,.8,.8],\n",
    "    \"03-28-20\": [.7,.6,.5,.5,.5,.5,.5,.5,.5],\n",
    "    \"04-05-20\": [.5,.4,.3,.3,.3,.3,.3,.3,.3] # HYPOTHETICAL mask distribution, training on not touching faces\n",
    "}, date_range)\n",
    "\n",
    "# How long compared to the average time does someone take to isolate when they have symptoms\n",
    "m_isolation_awareness = repeat_df_from_dates({\n",
    "    start_date: [1,1,1,1,1,1,1,1,1],\n",
    "    \"03-21-20\": [.8,.8,.8,.8,.8,.8,.8,.8,.8],\n",
    "    \"03-26-20\": [.5,.5,.5,.5,.5,.5,.5,.5,.5]\n",
    "}, date_range) \n",
    "\n",
    "# How much contact does someone isolating have. \n",
    "# Isolators likely still live in households, so it is still integral as opposed to fractional.\n",
    "m_isolation_effectiveness = repeat_df_from_dates({\n",
    "    start_date: [5,5,5,5,5,5,4,3,2],\n",
    "    \"03-21-20\": [2,2,2,2,2,2,2,2,2]\n",
    "}, date_range)\n",
    "\n",
    "# Increasing the threshold for hospitalization/testing (rest go to isolation).\n",
    "inpatient_refusal = repeat_df_from_dates({\n",
    "    start_date: [1,1,1,1,1,1,1,1,1],\n",
    "    \"03-26-20\": [.5,.5,.5,.5,.5,.5,.5,.5,.5]\n",
    "}, date_range)\n",
    "\n",
    "\n",
    "# NB: The following are state based, as opposed to demography based\n",
    "# ['S', 'E', 'P', 'V', 'Q', 'I', 'H', 'C', 'R', 'D', 'Con']\n",
    "imports = repeat_df_from_dates({\n",
    "    start_date: [0, 10, 5, 2, 10, 10, 0, 0, 0, 0, 0],\n",
    "    \"03-15-20\": [0, 10, 5, 2, 5, 5, 0, 0, 0, 0, 0],\n",
    "    \"03-22-20\": [0, 5, 2, 1, 2, 1, 0, 0, 0, 0, 0]\n",
    "}, date_range) # TODO make this interact with other models as a flux? For now, the "
   ]
  },
  {
   "cell_type": "code",
   "execution_count": 539,
   "metadata": {},
   "outputs": [],
   "source": [
    "def initialize_population(N: int, date_range: pd.DatetimeIndex, ages: pd.Index, demo: pd.Series, initial_infection_dist: list = [], likely: pd.Series = pd.Series(0, index=['S', 'E', 'P', 'V', 'Q', 'I', 'H', 'C', 'R', 'D', 'Con']), percent_resistant: int = 0):\n",
    "    ind = pd.MultiIndex.from_product([date_range, ['S', 'E', 'P', 'V', 'Q', 'I', 'H', 'C', 'R', 'D', 'Con']], names=['date', 'state'])\n",
    "    df = pd.DataFrame(0, columns=ages, index=ind)\n",
    "    \n",
    "    if not initial_infection_dist:\n",
    "        initial_infection_dist = demo\n",
    "    \n",
    "    likely['R'] = np.floor(percent_resistant * N).astype(int)\n",
    "    if likely['R'] > 0:\n",
    "        df.loc[date_range[0], 'R'] = population_sampler(initial_infection_dist, np.floor(percent_resistant * N).astype(int))\n",
    "    \n",
    "    removed_from_S = likely.sum() - (likely['S'] + likely['R'])\n",
    "    initial_S = population_sampler(demo, np.floor((N - removed_from_S)).astype(int))\n",
    "    df.loc[date_range[0], 'S'] = initial_S\n",
    "    \n",
    "    for col in likely.index:\n",
    "        if col == 'S' or col == 'R' or col == 'Con':\n",
    "            continue\n",
    "        if likely[col] > 0:\n",
    "            df.loc[date_range[0], col] = population_sampler(initial_infection_dist, likely[col])\n",
    "    \n",
    "    df.loc[date_range[0], 'Con'] = df.loc[date_range[0], 'H']\n",
    "    return df"
   ]
  },
  {
   "cell_type": "code",
   "execution_count": 540,
   "metadata": {},
   "outputs": [],
   "source": [
    "# TODO: Move everything to matrix based calculations opposed to separate operations. Move away from pandas.\n",
    "# Variable sampling should likely be done as a separate step from matrix mult.\n",
    "\n",
    "def compute_next(population: pd.DataFrame, date: str):\n",
    "    date = pd.Timestamp(date)\n",
    "    previous_date = date - pd.Timedelta(days=1)\n",
    "    S_old, E_old, P_old, V_old, Q_old, I_old, H_old, C_old, R_old, D_old, Con_old = population.loc[previous_date].values\n",
    "    L_pop = population.loc[previous_date].sum() - D_old - Con_old\n",
    "    s = len(S_old) # Demographic dimensions\n",
    "    \n",
    "    non_isolating_contact = (\n",
    "        p_tau * P_old +\n",
    "        v_tau * V_old +\n",
    "        h_tau * H_old * m_hospital.loc[previous_date]\n",
    "    ) * Contact.loc[previous_date]\n",
    "    \n",
    "    isolating_contact = i_tau * I_old / m_isolation_effectiveness.loc[previous_date]\n",
    "    \n",
    "    r = np.matmul(\n",
    "        (non_isolating_contact + isolating_contact) * m_sanitation.loc[previous_date]  / L_pop.values,\n",
    "        X\n",
    "    )\n",
    "    # NB/TODO: distancing is modeling as influencing shape, not just mean. Some people are stubborn, tailedness should change. \n",
    "    # This could be a separate mitigation param, as things like restricting public events could change the tailed-ness, mixing. \n",
    "    flux_in_exposed = flux(\n",
    "        rate_nb(kappa, r, Contact.loc[previous_date].mean() / Contact_baseline, s),\n",
    "        S_old\n",
    "    )\n",
    "    flux_in_prodromal = flux(gamma(e_mu, s), E_old)\n",
    "    flux_out_prodromal = flux(gamma(p_mu, s), P_old)\n",
    "    flux_in_virulent = flux(beta_severity(v_rho, Se, s), flux_out_prodromal)\n",
    "    flux_in_subclinical = flux_out_prodromal - flux_in_virulent\n",
    "    flux_out_subclinical = flux(gamma(q_mu, s), Q_old)\n",
    "    flux_out_virulent =  flux(gamma(v_mu * m_isolation_awareness.loc[previous_date], s), V_old)\n",
    "    flux_out_virulent_hospitalized = flux(beta_severity(h_rho*inpatient_refusal.loc[previous_date], Se, s), flux_out_virulent)\n",
    "    flux_out_virulent_isolated = flux_out_virulent - flux_out_virulent_hospitalized\n",
    "    flux_out_isolated = flux(gamma(i_mu, s), I_old)\n",
    "    flux_out_hospitalized = flux(gamma(h_mu/Se, s), H_old) \n",
    "    flux_in_critical = flux(beta_severity(c_rho, Se, s), flux_out_hospitalized)\n",
    "    flux_out_hospitalized_recovered = flux_out_hospitalized - flux_in_critical\n",
    "    flux_out_critical = flux(gamma(c_mu, s), C_old)\n",
    "    flux_in_dead = flux(beta_severity(d_rho, Se, s), flux_out_critical)\n",
    "    flux_out_critical_recovered = flux_out_critical - flux_in_dead\n",
    "    \n",
    "    S = S_old - flux_in_exposed\n",
    "    E = E_old + flux_in_exposed - flux_in_prodromal\n",
    "    P = P_old + flux_in_prodromal - flux_out_prodromal\n",
    "    V = V_old + flux_in_virulent - flux_out_virulent_hospitalized - flux_out_virulent_isolated\n",
    "    Q = Q_old + flux_in_subclinical - flux_out_subclinical\n",
    "    I = I_old + flux_out_subclinical + flux_out_virulent_isolated - flux_out_isolated\n",
    "    H = H_old + flux_out_virulent_hospitalized - flux_out_hospitalized\n",
    "    C = C_old + flux_in_critical - flux_out_critical\n",
    "    R = R_old + flux_out_isolated + flux_out_hospitalized_recovered + flux_out_critical_recovered\n",
    "    D = D_old + flux_in_dead\n",
    "    \n",
    "    # TODO: Make confirmations influence state transition to isolation? Also make testing parameterized in time.\n",
    "    Con = Con_old + flux_out_virulent_hospitalized + np.floor(flux_out_virulent_isolated / 4) + np.floor(flux_in_subclinical / 20)\n",
    "    \n",
    "    import_flux = compartmental_pop_sampler(region_population/region_population.sum(), imports.loc[previous_date])\n",
    "    #Maintain constant population, though a realistic simulation would include outflow from impacted areas\n",
    "    S = S - np.sum(import_flux).astype(int)\n",
    "    population.loc[date] = np.array([S, E, P, V, Q, I, H, C, R, D, Con]) + import_flux\n",
    "    "
   ]
  },
  {
   "cell_type": "code",
   "execution_count": 541,
   "metadata": {},
   "outputs": [
    {
     "name": "stdout",
     "output_type": "stream",
     "text": [
      "CPU times: user 348 ms, sys: 21.4 ms, total: 369 ms\n",
      "Wall time: 370 ms\n"
     ]
    }
   ],
   "source": [
    "%%time\n",
    "# Use NYC population, not state\n",
    "pop = initialize_population(\n",
    "    8.9E6, date_range, \n",
    "    ages=region_population.index, \n",
    "    demo=region_population/region_population.sum(), \n",
    "    likely=initial_state,\n",
    "    initial_infection_dist=initial_infection_dist\n",
    ")"
   ]
  },
  {
   "cell_type": "code",
   "execution_count": 542,
   "metadata": {},
   "outputs": [
    {
     "name": "stdout",
     "output_type": "stream",
     "text": [
      "CPU times: user 1.55 s, sys: 8.4 ms, total: 1.56 s\n",
      "Wall time: 1.56 s\n"
     ]
    }
   ],
   "source": [
    "%%time\n",
    "for date in date_range[1:]:\n",
    "    compute_next(pop, date)"
   ]
  },
  {
   "cell_type": "code",
   "execution_count": 543,
   "metadata": {},
   "outputs": [
    {
     "data": {
      "text/html": [
       "<div>\n",
       "<style scoped>\n",
       "    .dataframe tbody tr th:only-of-type {\n",
       "        vertical-align: middle;\n",
       "    }\n",
       "\n",
       "    .dataframe tbody tr th {\n",
       "        vertical-align: top;\n",
       "    }\n",
       "\n",
       "    .dataframe thead th {\n",
       "        text-align: right;\n",
       "    }\n",
       "</style>\n",
       "<table border=\"1\" class=\"dataframe\">\n",
       "  <thead>\n",
       "    <tr style=\"text-align: right;\">\n",
       "      <th></th>\n",
       "      <th></th>\n",
       "      <th>0-9</th>\n",
       "      <th>10-19</th>\n",
       "      <th>20-29</th>\n",
       "      <th>30-39</th>\n",
       "      <th>40-49</th>\n",
       "      <th>50-59</th>\n",
       "      <th>60-69</th>\n",
       "      <th>70-79</th>\n",
       "      <th>80+</th>\n",
       "    </tr>\n",
       "    <tr>\n",
       "      <th>date</th>\n",
       "      <th>state</th>\n",
       "      <th></th>\n",
       "      <th></th>\n",
       "      <th></th>\n",
       "      <th></th>\n",
       "      <th></th>\n",
       "      <th></th>\n",
       "      <th></th>\n",
       "      <th></th>\n",
       "      <th></th>\n",
       "    </tr>\n",
       "  </thead>\n",
       "  <tbody>\n",
       "    <tr>\n",
       "      <th rowspan=\"11\" valign=\"top\">2020-03-27</th>\n",
       "      <th>S</th>\n",
       "      <td>1045503.0</td>\n",
       "      <td>1112520.0</td>\n",
       "      <td>1198438.0</td>\n",
       "      <td>1168614.0</td>\n",
       "      <td>1063277.0</td>\n",
       "      <td>1105327.0</td>\n",
       "      <td>1016410.0</td>\n",
       "      <td>634265.0</td>\n",
       "      <td>346150.0</td>\n",
       "    </tr>\n",
       "    <tr>\n",
       "      <th>E</th>\n",
       "      <td>653.0</td>\n",
       "      <td>821.0</td>\n",
       "      <td>911.0</td>\n",
       "      <td>817.0</td>\n",
       "      <td>475.0</td>\n",
       "      <td>637.0</td>\n",
       "      <td>574.0</td>\n",
       "      <td>360.0</td>\n",
       "      <td>167.0</td>\n",
       "    </tr>\n",
       "    <tr>\n",
       "      <th>P</th>\n",
       "      <td>767.0</td>\n",
       "      <td>884.0</td>\n",
       "      <td>917.0</td>\n",
       "      <td>930.0</td>\n",
       "      <td>851.0</td>\n",
       "      <td>955.0</td>\n",
       "      <td>646.0</td>\n",
       "      <td>548.0</td>\n",
       "      <td>180.0</td>\n",
       "    </tr>\n",
       "    <tr>\n",
       "      <th>V</th>\n",
       "      <td>366.0</td>\n",
       "      <td>1485.0</td>\n",
       "      <td>882.0</td>\n",
       "      <td>1207.0</td>\n",
       "      <td>614.0</td>\n",
       "      <td>708.0</td>\n",
       "      <td>698.0</td>\n",
       "      <td>357.0</td>\n",
       "      <td>192.0</td>\n",
       "    </tr>\n",
       "    <tr>\n",
       "      <th>Q</th>\n",
       "      <td>640.0</td>\n",
       "      <td>456.0</td>\n",
       "      <td>384.0</td>\n",
       "      <td>485.0</td>\n",
       "      <td>250.0</td>\n",
       "      <td>370.0</td>\n",
       "      <td>211.0</td>\n",
       "      <td>84.0</td>\n",
       "      <td>63.0</td>\n",
       "    </tr>\n",
       "    <tr>\n",
       "      <th>I</th>\n",
       "      <td>1282.0</td>\n",
       "      <td>295.0</td>\n",
       "      <td>2262.0</td>\n",
       "      <td>1434.0</td>\n",
       "      <td>1059.0</td>\n",
       "      <td>1171.0</td>\n",
       "      <td>1158.0</td>\n",
       "      <td>676.0</td>\n",
       "      <td>471.0</td>\n",
       "    </tr>\n",
       "    <tr>\n",
       "      <th>H</th>\n",
       "      <td>0.0</td>\n",
       "      <td>0.0</td>\n",
       "      <td>0.0</td>\n",
       "      <td>0.0</td>\n",
       "      <td>3.0</td>\n",
       "      <td>0.0</td>\n",
       "      <td>183.0</td>\n",
       "      <td>72.0</td>\n",
       "      <td>12.0</td>\n",
       "    </tr>\n",
       "    <tr>\n",
       "      <th>C</th>\n",
       "      <td>1.0</td>\n",
       "      <td>0.0</td>\n",
       "      <td>0.0</td>\n",
       "      <td>1.0</td>\n",
       "      <td>58.0</td>\n",
       "      <td>4.0</td>\n",
       "      <td>25.0</td>\n",
       "      <td>181.0</td>\n",
       "      <td>4.0</td>\n",
       "    </tr>\n",
       "    <tr>\n",
       "      <th>R</th>\n",
       "      <td>18518.0</td>\n",
       "      <td>21267.0</td>\n",
       "      <td>33464.0</td>\n",
       "      <td>27636.0</td>\n",
       "      <td>17437.0</td>\n",
       "      <td>22272.0</td>\n",
       "      <td>15363.0</td>\n",
       "      <td>10659.0</td>\n",
       "      <td>5207.0</td>\n",
       "    </tr>\n",
       "    <tr>\n",
       "      <th>D</th>\n",
       "      <td>2.0</td>\n",
       "      <td>2.0</td>\n",
       "      <td>5.0</td>\n",
       "      <td>34.0</td>\n",
       "      <td>49.0</td>\n",
       "      <td>176.0</td>\n",
       "      <td>168.0</td>\n",
       "      <td>197.0</td>\n",
       "      <td>231.0</td>\n",
       "    </tr>\n",
       "    <tr>\n",
       "      <th>Con</th>\n",
       "      <td>2934.0</td>\n",
       "      <td>3842.0</td>\n",
       "      <td>5827.0</td>\n",
       "      <td>5589.0</td>\n",
       "      <td>3984.0</td>\n",
       "      <td>5162.0</td>\n",
       "      <td>4174.0</td>\n",
       "      <td>3252.0</td>\n",
       "      <td>1924.0</td>\n",
       "    </tr>\n",
       "  </tbody>\n",
       "</table>\n",
       "</div>"
      ],
      "text/plain": [
       "                        0-9      10-19      20-29      30-39      40-49  \\\n",
       "date       state                                                          \n",
       "2020-03-27 S      1045503.0  1112520.0  1198438.0  1168614.0  1063277.0   \n",
       "           E          653.0      821.0      911.0      817.0      475.0   \n",
       "           P          767.0      884.0      917.0      930.0      851.0   \n",
       "           V          366.0     1485.0      882.0     1207.0      614.0   \n",
       "           Q          640.0      456.0      384.0      485.0      250.0   \n",
       "           I         1282.0      295.0     2262.0     1434.0     1059.0   \n",
       "           H            0.0        0.0        0.0        0.0        3.0   \n",
       "           C            1.0        0.0        0.0        1.0       58.0   \n",
       "           R        18518.0    21267.0    33464.0    27636.0    17437.0   \n",
       "           D            2.0        2.0        5.0       34.0       49.0   \n",
       "           Con       2934.0     3842.0     5827.0     5589.0     3984.0   \n",
       "\n",
       "                      50-59      60-69     70-79       80+  \n",
       "date       state                                            \n",
       "2020-03-27 S      1105327.0  1016410.0  634265.0  346150.0  \n",
       "           E          637.0      574.0     360.0     167.0  \n",
       "           P          955.0      646.0     548.0     180.0  \n",
       "           V          708.0      698.0     357.0     192.0  \n",
       "           Q          370.0      211.0      84.0      63.0  \n",
       "           I         1171.0     1158.0     676.0     471.0  \n",
       "           H            0.0      183.0      72.0      12.0  \n",
       "           C            4.0       25.0     181.0       4.0  \n",
       "           R        22272.0    15363.0   10659.0    5207.0  \n",
       "           D          176.0      168.0     197.0     231.0  \n",
       "           Con       5162.0     4174.0    3252.0    1924.0  "
      ]
     },
     "execution_count": 543,
     "metadata": {},
     "output_type": "execute_result"
    }
   ],
   "source": [
    "pop.loc['2020-03-27']"
   ]
  },
  {
   "cell_type": "code",
   "execution_count": 544,
   "metadata": {},
   "outputs": [],
   "source": [
    "non_demo = pop.sum(axis=1).unstack()"
   ]
  },
  {
   "cell_type": "code",
   "execution_count": 545,
   "metadata": {},
   "outputs": [],
   "source": [
    "non_demo = non_demo.assign(A=non_demo.loc[:,['P', 'I', 'V', 'H', 'C', 'Q', 'R']].sum(axis=1))"
   ]
  },
  {
   "cell_type": "code",
   "execution_count": 546,
   "metadata": {},
   "outputs": [
    {
     "data": {
      "text/plain": [
       "<matplotlib.axes._subplots.AxesSubplot at 0x7f8f4c1827f0>"
      ]
     },
     "execution_count": 546,
     "metadata": {},
     "output_type": "execute_result"
    },
    {
     "data": {
      "image/png": "[encoded data removed]",
      "text/plain": [
       "<Figure size 432x288 with 1 Axes>"
      ]
     },
     "metadata": {
      "needs_background": "light"
     },
     "output_type": "display_data"
    }
   ],
   "source": [
    "non_demo.loc[:'12-30-20',['H', 'C']].plot()"
   ]
  },
  {
   "cell_type": "code",
   "execution_count": 557,
   "metadata": {},
   "outputs": [
    {
     "data": {
      "text/plain": [
       "<matplotlib.axes._subplots.AxesSubplot at 0x7f8f12339280>"
      ]
     },
     "execution_count": 557,
     "metadata": {},
     "output_type": "execute_result"
    },
    {
     "data": {
      "image/png": "[encoded data removed]",
      "text/plain": [
       "<Figure size 432x288 with 1 Axes>"
      ]
     },
     "metadata": {
      "needs_background": "light"
     },
     "output_type": "display_data"
    }
   ],
   "source": [
    "# Daily confirms, deaths.\n",
    "pop.loc[:'06-01-20'].sum(axis=1).unstack()[['Con', 'D']].diff().plot(logy=True)"
   ]
  },
  {
   "cell_type": "code",
   "execution_count": 552,
   "metadata": {},
   "outputs": [
    {
     "data": {
      "text/plain": [
       "<matplotlib.axes._subplots.AxesSubplot at 0x7f8f4c440b50>"
      ]
     },
     "execution_count": 552,
     "metadata": {},
     "output_type": "execute_result"
    },
    {
     "data": {
      "image/png": "[encoded data removed]",
      "text/plain": [
       "<Figure size 432x288 with 1 Axes>"
      ]
     },
     "metadata": {
      "needs_background": "light"
     },
     "output_type": "display_data"
    }
   ],
   "source": [
    "pop.loc[:'06-01-20'].sum(axis=1).unstack()[['Con', 'R', 'D']].plot()"
   ]
  },
  {
   "cell_type": "code",
   "execution_count": null,
   "metadata": {},
   "outputs": [],
   "source": []
  }
 ],
 "metadata": {
  "kernelspec": {
   "display_name": "Python 3",
   "language": "python",
   "name": "python3"
  },
  "language_info": {
   "codemirror_mode": {
    "name": "ipython",
    "version": 3
   },
   "file_extension": ".py",
   "mimetype": "text/x-python",
   "name": "python",
   "nbconvert_exporter": "python",
   "pygments_lexer": "ipython3",
   "version": "3.8.2"
  }
 },
 "nbformat": 4,
 "nbformat_minor": 4
}
